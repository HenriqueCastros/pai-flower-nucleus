{
 "cells": [
  {
   "cell_type": "code",
   "execution_count": 1,
   "metadata": {},
   "outputs": [],
   "source": [
    "import numpy as np\n",
    "import pandas as pd\n",
    "import cv2"
   ]
  },
  {
   "cell_type": "code",
   "execution_count": 2,
   "metadata": {},
   "outputs": [],
   "source": [
    "df = pd.read_csv('./classifications.csv')"
   ]
  },
  {
   "cell_type": "code",
   "execution_count": 53,
   "metadata": {},
   "outputs": [
    {
     "data": {
      "text/html": [
       "<div>\n",
       "<style scoped>\n",
       "    .dataframe tbody tr th:only-of-type {\n",
       "        vertical-align: middle;\n",
       "    }\n",
       "\n",
       "    .dataframe tbody tr th {\n",
       "        vertical-align: top;\n",
       "    }\n",
       "\n",
       "    .dataframe thead th {\n",
       "        text-align: right;\n",
       "    }\n",
       "</style>\n",
       "<table border=\"1\" class=\"dataframe\">\n",
       "  <thead>\n",
       "    <tr style=\"text-align: right;\">\n",
       "      <th></th>\n",
       "      <th>image_id</th>\n",
       "      <th>image_filename</th>\n",
       "      <th>image_doi</th>\n",
       "      <th>cell_id</th>\n",
       "      <th>bethesda_system</th>\n",
       "      <th>nucleus_x</th>\n",
       "      <th>nucleus_y</th>\n",
       "    </tr>\n",
       "  </thead>\n",
       "  <tbody>\n",
       "    <tr>\n",
       "      <th>5635</th>\n",
       "      <td>164</td>\n",
       "      <td>0a2a5a681410054941cc56f51eb8fbda.png</td>\n",
       "      <td>10.6084/m9.figshare.12230102</td>\n",
       "      <td>5636</td>\n",
       "      <td>Negative for intraepithelial lesion</td>\n",
       "      <td>1012</td>\n",
       "      <td>875</td>\n",
       "    </tr>\n",
       "    <tr>\n",
       "      <th>5636</th>\n",
       "      <td>164</td>\n",
       "      <td>0a2a5a681410054941cc56f51eb8fbda.png</td>\n",
       "      <td>10.6084/m9.figshare.12230102</td>\n",
       "      <td>5637</td>\n",
       "      <td>Negative for intraepithelial lesion</td>\n",
       "      <td>910</td>\n",
       "      <td>900</td>\n",
       "    </tr>\n",
       "    <tr>\n",
       "      <th>5637</th>\n",
       "      <td>164</td>\n",
       "      <td>0a2a5a681410054941cc56f51eb8fbda.png</td>\n",
       "      <td>10.6084/m9.figshare.12230102</td>\n",
       "      <td>5638</td>\n",
       "      <td>Negative for intraepithelial lesion</td>\n",
       "      <td>1177</td>\n",
       "      <td>416</td>\n",
       "    </tr>\n",
       "    <tr>\n",
       "      <th>5638</th>\n",
       "      <td>164</td>\n",
       "      <td>0a2a5a681410054941cc56f51eb8fbda.png</td>\n",
       "      <td>10.6084/m9.figshare.12230102</td>\n",
       "      <td>5639</td>\n",
       "      <td>Negative for intraepithelial lesion</td>\n",
       "      <td>1254</td>\n",
       "      <td>366</td>\n",
       "    </tr>\n",
       "    <tr>\n",
       "      <th>5639</th>\n",
       "      <td>164</td>\n",
       "      <td>0a2a5a681410054941cc56f51eb8fbda.png</td>\n",
       "      <td>10.6084/m9.figshare.12230102</td>\n",
       "      <td>5640</td>\n",
       "      <td>LSIL</td>\n",
       "      <td>983</td>\n",
       "      <td>450</td>\n",
       "    </tr>\n",
       "  </tbody>\n",
       "</table>\n",
       "</div>"
      ],
      "text/plain": [
       "      image_id                        image_filename  \\\n",
       "5635       164  0a2a5a681410054941cc56f51eb8fbda.png   \n",
       "5636       164  0a2a5a681410054941cc56f51eb8fbda.png   \n",
       "5637       164  0a2a5a681410054941cc56f51eb8fbda.png   \n",
       "5638       164  0a2a5a681410054941cc56f51eb8fbda.png   \n",
       "5639       164  0a2a5a681410054941cc56f51eb8fbda.png   \n",
       "\n",
       "                         image_doi  cell_id  \\\n",
       "5635  10.6084/m9.figshare.12230102     5636   \n",
       "5636  10.6084/m9.figshare.12230102     5637   \n",
       "5637  10.6084/m9.figshare.12230102     5638   \n",
       "5638  10.6084/m9.figshare.12230102     5639   \n",
       "5639  10.6084/m9.figshare.12230102     5640   \n",
       "\n",
       "                          bethesda_system  nucleus_x  nucleus_y  \n",
       "5635  Negative for intraepithelial lesion       1012        875  \n",
       "5636  Negative for intraepithelial lesion        910        900  \n",
       "5637  Negative for intraepithelial lesion       1177        416  \n",
       "5638  Negative for intraepithelial lesion       1254        366  \n",
       "5639                                 LSIL        983        450  "
      ]
     },
     "execution_count": 53,
     "metadata": {},
     "output_type": "execute_result"
    }
   ],
   "source": [
    "df[df['image_filename'] == '0a2a5a681410054941cc56f51eb8fbda.png']"
   ]
  },
  {
   "cell_type": "code",
   "execution_count": 51,
   "metadata": {},
   "outputs": [],
   "source": [
    "def crop_image_around_point(image, x, y, crop_size):\n",
    "    # Calculate the top-left corner of the crop\n",
    "    x_start = max(0, x - int(crop_size))\n",
    "    y_start = max(0, y - int(crop_size))\n",
    "\n",
    "    # Calculate the bottom-right corner of the crop\n",
    "    x_end = min(image.shape[1], x)# + int(crop_size / 2))\n",
    "    y_end = min(image.shape[0], y)# + int(crop_size / 2))\n",
    "\n",
    "    # Crop the image\n",
    "    cropped_image = image[y_start:y_end, x_start:x_end]\n",
    "\n",
    "    return cropped_image"
   ]
  },
  {
   "cell_type": "code",
   "execution_count": 57,
   "metadata": {},
   "outputs": [
    {
     "name": "stdout",
     "output_type": "stream",
     "text": [
      "erro\n"
     ]
    },
    {
     "name": "stderr",
     "output_type": "stream",
     "text": [
      "[ WARN:0@2062.898] global loadsave.cpp:248 findDecoder imread_('./dataset/a.png'): can't open/read file: check file path/integrity\n"
     ]
    }
   ],
   "source": [
    "# Example usage:\n",
    "# Load your image (replace 'your_image_path.jpg' with your actual image file path)\n",
    "original_image = cv2.imread('./dataset/a.png')\n",
    "\n",
    "if original_image == None:\n",
    "    print(\"erro\")\n",
    "else:\n",
    "    # Replace these values with the actual x, y coordinates and the desired crop size\n",
    "    center_x = 1012\n",
    "    center_y = 875\n",
    "    crop_size = 100\n",
    "\n",
    "    # Crop the image around the specified x, y coordinates\n",
    "    cropped_image = crop_image_around_point(original_image, center_x,  center_y, crop_size)\n",
    "\n",
    "    # Display the original and cropped images\n",
    "    cv2.imwrite('./tests/ouput.png', cropped_image)"
   ]
  },
  {
   "cell_type": "code",
   "execution_count": null,
   "metadata": {},
   "outputs": [],
   "source": []
  }
 ],
 "metadata": {
  "kernelspec": {
   "display_name": "Python 3",
   "language": "python",
   "name": "python3"
  },
  "language_info": {
   "codemirror_mode": {
    "name": "ipython",
    "version": 3
   },
   "file_extension": ".py",
   "mimetype": "text/x-python",
   "name": "python",
   "nbconvert_exporter": "python",
   "pygments_lexer": "ipython3",
   "version": "3.9.6"
  }
 },
 "nbformat": 4,
 "nbformat_minor": 2
}
