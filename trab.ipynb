{
 "cells": [
  {
   "cell_type": "code",
   "execution_count": 1,
   "metadata": {},
   "outputs": [],
   "source": [
    "import numpy as np\n",
    "import pandas as pd\n",
    "import cv2\n",
    "import os\n",
    "from PIL import Image\n",
    "from tqdm import tqdm\n",
    "\n",
    "\n",
    "from src import scale_proportional\n",
    "from src import binary, otsu, watershed, region_growing\n",
    "import src.description as description"
   ]
  },
  {
   "cell_type": "code",
   "execution_count": 2,
   "metadata": {},
   "outputs": [],
   "source": [
    "# !curl -o dataset.zip \"https://database.cric.com.br/api/v1/imagens/export?collection=1&images=1&classifications=0&segmentations=0\"\n",
    "# !mkdir -p dataset\n",
    "# !unzip -q dataset.zip -d dataset"
   ]
  },
  {
   "cell_type": "code",
   "execution_count": 3,
   "metadata": {},
   "outputs": [
    {
     "data": {
      "text/html": [
       "<div>\n",
       "<style scoped>\n",
       "    .dataframe tbody tr th:only-of-type {\n",
       "        vertical-align: middle;\n",
       "    }\n",
       "\n",
       "    .dataframe tbody tr th {\n",
       "        vertical-align: top;\n",
       "    }\n",
       "\n",
       "    .dataframe thead th {\n",
       "        text-align: right;\n",
       "    }\n",
       "</style>\n",
       "<table border=\"1\" class=\"dataframe\">\n",
       "  <thead>\n",
       "    <tr style=\"text-align: right;\">\n",
       "      <th></th>\n",
       "      <th>image_id</th>\n",
       "      <th>image_filename</th>\n",
       "      <th>image_doi</th>\n",
       "      <th>cell_id</th>\n",
       "      <th>bethesda_system</th>\n",
       "      <th>nucleus_x</th>\n",
       "      <th>nucleus_y</th>\n",
       "    </tr>\n",
       "  </thead>\n",
       "  <tbody>\n",
       "    <tr>\n",
       "      <th>5635</th>\n",
       "      <td>164</td>\n",
       "      <td>0a2a5a681410054941cc56f51eb8fbda.png</td>\n",
       "      <td>10.6084/m9.figshare.12230102</td>\n",
       "      <td>5636</td>\n",
       "      <td>Negative for intraepithelial lesion</td>\n",
       "      <td>1012</td>\n",
       "      <td>875</td>\n",
       "    </tr>\n",
       "    <tr>\n",
       "      <th>5636</th>\n",
       "      <td>164</td>\n",
       "      <td>0a2a5a681410054941cc56f51eb8fbda.png</td>\n",
       "      <td>10.6084/m9.figshare.12230102</td>\n",
       "      <td>5637</td>\n",
       "      <td>Negative for intraepithelial lesion</td>\n",
       "      <td>910</td>\n",
       "      <td>900</td>\n",
       "    </tr>\n",
       "    <tr>\n",
       "      <th>5637</th>\n",
       "      <td>164</td>\n",
       "      <td>0a2a5a681410054941cc56f51eb8fbda.png</td>\n",
       "      <td>10.6084/m9.figshare.12230102</td>\n",
       "      <td>5638</td>\n",
       "      <td>Negative for intraepithelial lesion</td>\n",
       "      <td>1177</td>\n",
       "      <td>416</td>\n",
       "    </tr>\n",
       "    <tr>\n",
       "      <th>5638</th>\n",
       "      <td>164</td>\n",
       "      <td>0a2a5a681410054941cc56f51eb8fbda.png</td>\n",
       "      <td>10.6084/m9.figshare.12230102</td>\n",
       "      <td>5639</td>\n",
       "      <td>Negative for intraepithelial lesion</td>\n",
       "      <td>1254</td>\n",
       "      <td>366</td>\n",
       "    </tr>\n",
       "    <tr>\n",
       "      <th>5639</th>\n",
       "      <td>164</td>\n",
       "      <td>0a2a5a681410054941cc56f51eb8fbda.png</td>\n",
       "      <td>10.6084/m9.figshare.12230102</td>\n",
       "      <td>5640</td>\n",
       "      <td>LSIL</td>\n",
       "      <td>983</td>\n",
       "      <td>450</td>\n",
       "    </tr>\n",
       "  </tbody>\n",
       "</table>\n",
       "</div>"
      ],
      "text/plain": [
       "      image_id                        image_filename  \\\n",
       "5635       164  0a2a5a681410054941cc56f51eb8fbda.png   \n",
       "5636       164  0a2a5a681410054941cc56f51eb8fbda.png   \n",
       "5637       164  0a2a5a681410054941cc56f51eb8fbda.png   \n",
       "5638       164  0a2a5a681410054941cc56f51eb8fbda.png   \n",
       "5639       164  0a2a5a681410054941cc56f51eb8fbda.png   \n",
       "\n",
       "                         image_doi  cell_id  \\\n",
       "5635  10.6084/m9.figshare.12230102     5636   \n",
       "5636  10.6084/m9.figshare.12230102     5637   \n",
       "5637  10.6084/m9.figshare.12230102     5638   \n",
       "5638  10.6084/m9.figshare.12230102     5639   \n",
       "5639  10.6084/m9.figshare.12230102     5640   \n",
       "\n",
       "                          bethesda_system  nucleus_x  nucleus_y  \n",
       "5635  Negative for intraepithelial lesion       1012        875  \n",
       "5636  Negative for intraepithelial lesion        910        900  \n",
       "5637  Negative for intraepithelial lesion       1177        416  \n",
       "5638  Negative for intraepithelial lesion       1254        366  \n",
       "5639                                 LSIL        983        450  "
      ]
     },
     "execution_count": 3,
     "metadata": {},
     "output_type": "execute_result"
    }
   ],
   "source": [
    "df = pd.read_csv('./classifications.csv')\n",
    "dir_path = './dataset'\n",
    "test_img = '0a2a5a681410054941cc56f51eb8fbda.png'\n",
    "df[df['image_filename'] == test_img]"
   ]
  },
  {
   "cell_type": "code",
   "execution_count": 4,
   "metadata": {},
   "outputs": [],
   "source": [
    "def crop_image_around_point(image, x, y, crop_size):\n",
    "    # Calculate the top-left corner of the crop\n",
    "    x_start = max(0, x - int(crop_size / 2))\n",
    "    y_start = max(0, y - int(crop_size / 2))\n",
    "\n",
    "    # Calculate the bottom-right corner of the crop\n",
    "    x_end = min(image.shape[1], x + int(crop_size / 2))\n",
    "    y_end = min(image.shape[0], y + int(crop_size / 2))\n",
    "\n",
    "    # Crop the image\n",
    "    cropped_image = image[y_start:y_end, x_start:x_end]\n",
    "\n",
    "    return cropped_image"
   ]
  },
  {
   "cell_type": "code",
   "execution_count": 5,
   "metadata": {},
   "outputs": [],
   "source": [
    "def crop_with_pil(image, x, y, crop_size):\n",
    "    lcrop = int(crop_size/2)\n",
    "    rcrop = int(crop_size - lcrop)\n",
    "    width, height = image.size\n",
    "\n",
    "    # Calculate the top-left corner of the crop\n",
    "    x_start = max(0, x - lcrop)\n",
    "    y_start = max(0, y - lcrop)\n",
    "\n",
    "    # Calculate the bottom-right corner of the crop\n",
    "    x_end = min(width, x + rcrop)\n",
    "    y_end = min(height, y + rcrop)\n",
    "\n",
    "    # Crop the image\n",
    "    cropped_image = image.crop((x_start, y_start, x_end, y_end))\n",
    "\n",
    "    return cropped_image"
   ]
  },
  {
   "cell_type": "code",
   "execution_count": 6,
   "metadata": {},
   "outputs": [
    {
     "data": {
      "image/jpeg": "[encoded data removed]",
      "image/png": "[encoded data removed]",
      "text/plain": [
       "<PIL.Image.Image image mode=RGB size=100x100>"
      ]
     },
     "execution_count": 6,
     "metadata": {},
     "output_type": "execute_result"
    }
   ],
   "source": [
    "img_path = os.path.join(dir_path, test_img)\n",
    "image = cv2.imread(img_path)\n",
    "image = cv2.cvtColor(image, cv2.COLOR_BGR2RGB)\n",
    "cropped_img = crop_image_around_point(image, 1012, 875, 100)\n",
    "img = Image.fromarray(cropped_img)\n",
    "img"
   ]
  },
  {
   "cell_type": "code",
   "execution_count": 111,
   "metadata": {},
   "outputs": [],
   "source": [
    "neighbors = [(1, 0), (-1, 0), (0, 1), (0, -1)]  # 4-connectivity\n",
    "\n",
    "# Create a mask to store segmented region\n",
    "height, width, _ = cropped_img.shape\n",
    "segmented = np.zeros_like(cropped_img, dtype=np.uint8)\n",
    "\n",
    "seed = (height//2, width//2)\n",
    "queue = [seed]\n",
    "\n",
    "# Get the color of the seed pixel\n",
    "seed_color = cropped_img[seed[0], seed[1]]\n",
    "\n",
    "while queue:\n",
    "    current_pixel = queue.pop(0)\n",
    "    x, y = current_pixel\n",
    "\n",
    "    # Check if the current pixel is within the image boundaries\n",
    "    if 0 <= x < height and 0 <= y < width:\n",
    "        # Check if the pixel has not been visited and has a similar color to the seed\n",
    "\n",
    "        if np.all(segmented[x, y] == 0) and np.all(np.abs(cropped_img[x, y].astype(np.int64) - seed_color.astype(np.int64)) < [20, 20, 20]):\n",
    "            # Add the current pixel to the segmented region\n",
    "            segmented[x, y] = cropped_img[x, y]\n",
    "            # segmented[x, y] = (255,255,255)\n",
    "\n",
    "            # Add neighbors to the queue for further processing\n",
    "            for neighbor in neighbors:\n",
    "                queue.append((x + neighbor[0], y + neighbor[1]))\n",
    "        # else:\n",
    "        #     print(current_pixel, cropped_img[x, y], seed_color, cropped_img[x, y].astype(np.int64) - seed_color.astype(np.int64), np.any(np.abs(cropped_img[x, y] - seed_color) < [20, 20, 20]))"
   ]
  },
  {
   "cell_type": "code",
   "execution_count": 112,
   "metadata": {},
   "outputs": [
    {
     "data": {
      "image/jpeg": "[encoded data removed]",
      "image/png": "[encoded data removed]",
      "text/plain": [
       "<PIL.Image.Image image mode=RGB size=100x100>"
      ]
     },
     "execution_count": 112,
     "metadata": {},
     "output_type": "execute_result"
    }
   ],
   "source": [
    "Image.fromarray(segmented)"
   ]
  },
  {
   "cell_type": "code",
   "execution_count": 8,
   "metadata": {},
   "outputs": [
    {
     "data": {
      "image/jpeg": "[encoded data removed]",
      "image/png": "[encoded data removed]",
      "text/plain": [
       "<PIL.Image.Image image mode=L size=100x100>"
      ]
     },
     "execution_count": 8,
     "metadata": {},
     "output_type": "execute_result"
    }
   ],
   "source": [
    "binary = binary(cropped_img, 127, invert=True)\n",
    "Image.fromarray(binary)"
   ]
  },
  {
   "cell_type": "code",
   "execution_count": 7,
   "metadata": {},
   "outputs": [
    {
     "data": {
      "image/jpeg": "[encoded data removed]",
      "image/png": "[encoded data removed]",
      "text/plain": [
       "<PIL.Image.Image image mode=L size=100x100>"
      ]
     },
     "execution_count": 7,
     "metadata": {},
     "output_type": "execute_result"
    }
   ],
   "source": [
    "watershed_img = watershed(cropped_img)\n",
    "Image.fromarray(watershed_img)"
   ]
  },
  {
   "cell_type": "code",
   "execution_count": 10,
   "metadata": {},
   "outputs": [
    {
     "data": {
      "image/jpeg": "[encoded data removed]",
      "image/png": "[encoded data removed]",
      "text/plain": [
       "<PIL.Image.Image image mode=L size=100x100>"
      ]
     },
     "execution_count": 10,
     "metadata": {},
     "output_type": "execute_result"
    }
   ],
   "source": [
    "Image.fromarray(otsu(cropped_img, invert=True))"
   ]
  },
  {
   "cell_type": "code",
   "execution_count": 8,
   "metadata": {},
   "outputs": [
    {
     "data": {
      "text/plain": [
       "0.5641397645686083"
      ]
     },
     "execution_count": 8,
     "metadata": {},
     "output_type": "execute_result"
    }
   ],
   "source": [
    "description.calculate_eccentricity(watershed_img)"
   ]
  },
  {
   "cell_type": "code",
   "execution_count": 7,
   "metadata": {},
   "outputs": [
    {
     "name": "stderr",
     "output_type": "stream",
     "text": [
      " 31%|███▏      | 290/925 [00:24<00:19, 32.40it/s]"
     ]
    },
    {
     "name": "stdout",
     "output_type": "stream",
     "text": [
      "error: ./cropped_dataset/ASC-H/8116.jpg\n"
     ]
    },
    {
     "name": "stderr",
     "output_type": "stream",
     "text": [
      " 89%|████████▊ | 820/925 [01:44<00:06, 15.28it/s]"
     ]
    },
    {
     "name": "stdout",
     "output_type": "stream",
     "text": [
      "error: ./cropped_dataset/ASC-H/9781.jpg\n"
     ]
    },
    {
     "name": "stderr",
     "output_type": "stream",
     "text": [
      "100%|██████████| 925/925 [02:00<00:00,  7.70it/s]\n",
      " 73%|███████▎  | 443/606 [01:06<00:26,  6.15it/s]"
     ]
    },
    {
     "name": "stdout",
     "output_type": "stream",
     "text": [
      "error: ./cropped_dataset/ASC-US/4950.jpg\n"
     ]
    },
    {
     "name": "stderr",
     "output_type": "stream",
     "text": [
      "100%|██████████| 606/606 [01:23<00:00,  7.24it/s]\n",
      "100%|██████████| 1703/1703 [04:51<00:00,  5.84it/s]\n",
      " 42%|████▏     | 565/1360 [00:42<01:20,  9.90it/s]"
     ]
    },
    {
     "name": "stdout",
     "output_type": "stream",
     "text": [
      "error: ./cropped_dataset/LSIL/2507.jpg\n"
     ]
    },
    {
     "name": "stderr",
     "output_type": "stream",
     "text": [
      " 69%|██████▊   | 934/1360 [01:19<00:25, 16.54it/s]"
     ]
    },
    {
     "name": "stdout",
     "output_type": "stream",
     "text": [
      "error: ./cropped_dataset/LSIL/4639.jpg\n"
     ]
    },
    {
     "name": "stderr",
     "output_type": "stream",
     "text": [
      " 85%|████████▌ | 1162/1360 [01:37<00:10, 18.75it/s]"
     ]
    },
    {
     "name": "stdout",
     "output_type": "stream",
     "text": [
      "error: ./cropped_dataset/LSIL/5525.jpg\n"
     ]
    },
    {
     "name": "stderr",
     "output_type": "stream",
     "text": [
      "100%|██████████| 1360/1360 [01:49<00:00, 12.45it/s]\n",
      "  0%|          | 27/6779 [00:00<02:19, 48.49it/s]"
     ]
    },
    {
     "name": "stdout",
     "output_type": "stream",
     "text": [
      "error: ./cropped_dataset/Negative for intraepithelial lesion/10048.jpg\n",
      "error: ./cropped_dataset/Negative for intraepithelial lesion/10050.jpg\n"
     ]
    },
    {
     "name": "stderr",
     "output_type": "stream",
     "text": [
      "  6%|▌         | 376/6779 [00:12<03:49, 27.86it/s]"
     ]
    },
    {
     "name": "stdout",
     "output_type": "stream",
     "text": [
      "error: ./cropped_dataset/Negative for intraepithelial lesion/10505.jpg\n"
     ]
    },
    {
     "name": "stderr",
     "output_type": "stream",
     "text": [
      " 18%|█▊        | 1188/6779 [00:41<02:04, 44.82it/s]"
     ]
    },
    {
     "name": "stdout",
     "output_type": "stream",
     "text": [
      "error: ./cropped_dataset/Negative for intraepithelial lesion/11338.jpg\n"
     ]
    },
    {
     "name": "stderr",
     "output_type": "stream",
     "text": [
      " 30%|███       | 2064/6779 [01:16<01:52, 42.00it/s]"
     ]
    },
    {
     "name": "stdout",
     "output_type": "stream",
     "text": [
      "error: ./cropped_dataset/Negative for intraepithelial lesion/2338.jpg\n",
      "error: ./cropped_dataset/Negative for intraepithelial lesion/2351.jpg\n"
     ]
    },
    {
     "name": "stderr",
     "output_type": "stream",
     "text": [
      " 31%|███       | 2086/6779 [01:17<01:54, 41.14it/s]"
     ]
    },
    {
     "name": "stdout",
     "output_type": "stream",
     "text": [
      "error: ./cropped_dataset/Negative for intraepithelial lesion/2365.jpg\n"
     ]
    },
    {
     "name": "stderr",
     "output_type": "stream",
     "text": [
      " 36%|███▌      | 2439/6779 [01:31<02:06, 34.22it/s]"
     ]
    },
    {
     "name": "stdout",
     "output_type": "stream",
     "text": [
      "error: ./cropped_dataset/Negative for intraepithelial lesion/2864.jpg\n"
     ]
    },
    {
     "name": "stderr",
     "output_type": "stream",
     "text": [
      " 37%|███▋      | 2502/6779 [01:34<02:52, 24.81it/s]"
     ]
    },
    {
     "name": "stdout",
     "output_type": "stream",
     "text": [
      "error: ./cropped_dataset/Negative for intraepithelial lesion/2944.jpg\n"
     ]
    },
    {
     "name": "stderr",
     "output_type": "stream",
     "text": [
      " 42%|████▏     | 2831/6779 [01:48<02:37, 25.14it/s]"
     ]
    },
    {
     "name": "stdout",
     "output_type": "stream",
     "text": [
      "error: ./cropped_dataset/Negative for intraepithelial lesion/3379.jpg\n"
     ]
    },
    {
     "name": "stderr",
     "output_type": "stream",
     "text": [
      " 45%|████▌     | 3080/6779 [01:58<01:42, 35.93it/s]"
     ]
    },
    {
     "name": "stdout",
     "output_type": "stream",
     "text": [
      "error: ./cropped_dataset/Negative for intraepithelial lesion/3679.jpg\n"
     ]
    },
    {
     "name": "stderr",
     "output_type": "stream",
     "text": [
      " 46%|████▋     | 3141/6779 [02:00<02:03, 29.44it/s]"
     ]
    },
    {
     "name": "stdout",
     "output_type": "stream",
     "text": [
      "error: ./cropped_dataset/Negative for intraepithelial lesion/3744.jpg\n"
     ]
    },
    {
     "name": "stderr",
     "output_type": "stream",
     "text": [
      " 48%|████▊     | 3241/6779 [02:06<02:00, 29.44it/s]"
     ]
    },
    {
     "name": "stdout",
     "output_type": "stream",
     "text": [
      "error: ./cropped_dataset/Negative for intraepithelial lesion/3869.jpg\n"
     ]
    },
    {
     "name": "stderr",
     "output_type": "stream",
     "text": [
      " 49%|████▊     | 3300/6779 [02:08<02:09, 26.97it/s]"
     ]
    },
    {
     "name": "stdout",
     "output_type": "stream",
     "text": [
      "error: ./cropped_dataset/Negative for intraepithelial lesion/3945.jpg\n"
     ]
    },
    {
     "name": "stderr",
     "output_type": "stream",
     "text": [
      " 55%|█████▍    | 3701/6779 [02:21<01:40, 30.63it/s]"
     ]
    },
    {
     "name": "stdout",
     "output_type": "stream",
     "text": [
      "error: ./cropped_dataset/Negative for intraepithelial lesion/4490.jpg\n"
     ]
    },
    {
     "name": "stderr",
     "output_type": "stream",
     "text": [
      " 55%|█████▍    | 3720/6779 [02:21<01:18, 39.04it/s]"
     ]
    },
    {
     "name": "stdout",
     "output_type": "stream",
     "text": [
      "error: ./cropped_dataset/Negative for intraepithelial lesion/4607.jpg\n",
      "error: ./cropped_dataset/Negative for intraepithelial lesion/4611.jpg\n",
      "error: ./cropped_dataset/Negative for intraepithelial lesion/4618.jpg\n"
     ]
    },
    {
     "name": "stderr",
     "output_type": "stream",
     "text": [
      " 56%|█████▌    | 3792/6779 [02:23<01:29, 33.55it/s]"
     ]
    },
    {
     "name": "stdout",
     "output_type": "stream",
     "text": [
      "error: ./cropped_dataset/Negative for intraepithelial lesion/4708.jpg\n"
     ]
    },
    {
     "name": "stderr",
     "output_type": "stream",
     "text": [
      " 57%|█████▋    | 3835/6779 [02:25<01:55, 25.40it/s]"
     ]
    },
    {
     "name": "stdout",
     "output_type": "stream",
     "text": [
      "error: ./cropped_dataset/Negative for intraepithelial lesion/4750.jpg\n"
     ]
    },
    {
     "name": "stderr",
     "output_type": "stream",
     "text": [
      " 59%|█████▉    | 4014/6779 [02:32<01:31, 30.12it/s]"
     ]
    },
    {
     "name": "stdout",
     "output_type": "stream",
     "text": [
      "error: ./cropped_dataset/Negative for intraepithelial lesion/4974.jpg\n"
     ]
    },
    {
     "name": "stderr",
     "output_type": "stream",
     "text": [
      " 63%|██████▎   | 4271/6779 [02:45<02:27, 17.03it/s]"
     ]
    },
    {
     "name": "stdout",
     "output_type": "stream",
     "text": [
      "error: ./cropped_dataset/Negative for intraepithelial lesion/5452.jpg\n"
     ]
    },
    {
     "name": "stderr",
     "output_type": "stream",
     "text": [
      " 67%|██████▋   | 4509/6779 [02:55<00:46, 48.30it/s]"
     ]
    },
    {
     "name": "stdout",
     "output_type": "stream",
     "text": [
      "error: ./cropped_dataset/Negative for intraepithelial lesion/5781.jpg\n"
     ]
    },
    {
     "name": "stderr",
     "output_type": "stream",
     "text": [
      " 74%|███████▎  | 4993/6779 [03:09<00:36, 49.06it/s]"
     ]
    },
    {
     "name": "stdout",
     "output_type": "stream",
     "text": [
      "error: ./cropped_dataset/Negative for intraepithelial lesion/6255.jpg\n"
     ]
    },
    {
     "name": "stderr",
     "output_type": "stream",
     "text": [
      " 80%|███████▉  | 5400/6779 [03:20<00:37, 36.53it/s]"
     ]
    },
    {
     "name": "stdout",
     "output_type": "stream",
     "text": [
      "error: ./cropped_dataset/Negative for intraepithelial lesion/6661.jpg\n"
     ]
    },
    {
     "name": "stderr",
     "output_type": "stream",
     "text": [
      " 82%|████████▏ | 5563/6779 [03:24<00:31, 38.99it/s]"
     ]
    },
    {
     "name": "stdout",
     "output_type": "stream",
     "text": [
      "error: ./cropped_dataset/Negative for intraepithelial lesion/6822.jpg\n"
     ]
    },
    {
     "name": "stderr",
     "output_type": "stream",
     "text": [
      " 82%|████████▏ | 5574/6779 [03:24<00:34, 34.71it/s]"
     ]
    },
    {
     "name": "stdout",
     "output_type": "stream",
     "text": [
      "error: ./cropped_dataset/Negative for intraepithelial lesion/6829.jpg\n"
     ]
    },
    {
     "name": "stderr",
     "output_type": "stream",
     "text": [
      " 84%|████████▍ | 5683/6779 [03:27<00:42, 25.93it/s]"
     ]
    },
    {
     "name": "stdout",
     "output_type": "stream",
     "text": [
      "error: ./cropped_dataset/Negative for intraepithelial lesion/6930.jpg\n"
     ]
    },
    {
     "name": "stderr",
     "output_type": "stream",
     "text": [
      " 84%|████████▍ | 5720/6779 [03:28<00:30, 34.44it/s]"
     ]
    },
    {
     "name": "stdout",
     "output_type": "stream",
     "text": [
      "error: ./cropped_dataset/Negative for intraepithelial lesion/6962.jpg\n"
     ]
    },
    {
     "name": "stderr",
     "output_type": "stream",
     "text": [
      " 85%|████████▌ | 5778/6779 [03:31<00:31, 32.22it/s]"
     ]
    },
    {
     "name": "stdout",
     "output_type": "stream",
     "text": [
      "error: ./cropped_dataset/Negative for intraepithelial lesion/7010.jpg\n",
      "error: ./cropped_dataset/Negative for intraepithelial lesion/7011.jpg\n"
     ]
    },
    {
     "name": "stderr",
     "output_type": "stream",
     "text": [
      " 85%|████████▌ | 5790/6779 [03:31<00:44, 22.08it/s]"
     ]
    },
    {
     "name": "stdout",
     "output_type": "stream",
     "text": [
      "error: ./cropped_dataset/Negative for intraepithelial lesion/7026.jpg\n"
     ]
    },
    {
     "name": "stderr",
     "output_type": "stream",
     "text": [
      " 86%|████████▌ | 5805/6779 [03:32<00:29, 33.29it/s]"
     ]
    },
    {
     "name": "stdout",
     "output_type": "stream",
     "text": [
      "error: ./cropped_dataset/Negative for intraepithelial lesion/7038.jpg\n"
     ]
    },
    {
     "name": "stderr",
     "output_type": "stream",
     "text": [
      " 87%|████████▋ | 5897/6779 [03:36<00:26, 32.94it/s]"
     ]
    },
    {
     "name": "stdout",
     "output_type": "stream",
     "text": [
      "error: ./cropped_dataset/Negative for intraepithelial lesion/7120.jpg\n"
     ]
    },
    {
     "name": "stderr",
     "output_type": "stream",
     "text": [
      " 87%|████████▋ | 5905/6779 [03:36<00:29, 29.57it/s]"
     ]
    },
    {
     "name": "stdout",
     "output_type": "stream",
     "text": [
      "error: ./cropped_dataset/Negative for intraepithelial lesion/7132.jpg\n"
     ]
    },
    {
     "name": "stderr",
     "output_type": "stream",
     "text": [
      " 90%|████████▉ | 6091/6779 [03:43<00:19, 36.14it/s]"
     ]
    },
    {
     "name": "stdout",
     "output_type": "stream",
     "text": [
      "error: ./cropped_dataset/Negative for intraepithelial lesion/7303.jpg\n",
      "error: ./cropped_dataset/Negative for intraepithelial lesion/7310.jpg\n"
     ]
    },
    {
     "name": "stderr",
     "output_type": "stream",
     "text": [
      " 91%|█████████ | 6162/6779 [03:44<00:11, 52.69it/s]"
     ]
    },
    {
     "name": "stdout",
     "output_type": "stream",
     "text": [
      "error: ./cropped_dataset/Negative for intraepithelial lesion/7376.jpg\n"
     ]
    },
    {
     "name": "stderr",
     "output_type": "stream",
     "text": [
      " 96%|█████████▌| 6495/6779 [03:56<00:08, 35.24it/s]"
     ]
    },
    {
     "name": "stdout",
     "output_type": "stream",
     "text": [
      "error: ./cropped_dataset/Negative for intraepithelial lesion/8196.jpg\n"
     ]
    },
    {
     "name": "stderr",
     "output_type": "stream",
     "text": [
      " 98%|█████████▊| 6640/6779 [04:00<00:03, 39.45it/s]"
     ]
    },
    {
     "name": "stdout",
     "output_type": "stream",
     "text": [
      "error: ./cropped_dataset/Negative for intraepithelial lesion/9608.jpg\n"
     ]
    },
    {
     "name": "stderr",
     "output_type": "stream",
     "text": [
      "100%|██████████| 6779/6779 [04:06<00:00, 27.53it/s]\n",
      "100%|██████████| 161/161 [00:07<00:00, 21.69it/s]\n"
     ]
    }
   ],
   "source": [
    "crop_size = 100\n",
    "out_dir = './cropped_dataset/'\n",
    "\n",
    "df = pd.DataFrame(columns=['image', 'area', 'compactness', 'eccentricity', 'permieter', 'label'])\n",
    "error_log = []\n",
    "for dir in (os.listdir(out_dir)):\n",
    "    for file in tqdm(os.listdir(out_dir + \"/\" + dir)):\n",
    "        try:\n",
    "            path = (out_dir + dir + \"/\" + file)\n",
    "\n",
    "            img = cv2.imread(path)\n",
    "            test = region_growing(img)\n",
    "            test = cv2.cvtColor(test, cv2.COLOR_BGR2GRAY)\n",
    "            (x, y) = test.shape\n",
    "\n",
    "            main_obj = test[x//2, y//2]\n",
    "\n",
    "            test[test != main_obj] = 0\n",
    "            test[test == main_obj] = 255\n",
    "\n",
    "            df.loc[len(df.index)] = ((path, \n",
    "                description.calculate_area(test),\n",
    "                description.calculate_compactness(test),\n",
    "                description.calculate_eccentricity(test),\n",
    "                description.calculate_perimeter(test), \n",
    "            dir))\n",
    "        except:\n",
    "            print(f'error: {path}')\n",
    "            error_log.append(path)\n",
    "df.to_csv('./main_data.csv')"
   ]
  },
  {
   "cell_type": "code",
   "execution_count": 38,
   "metadata": {},
   "outputs": [],
   "source": [
    "df = pd.read_csv('./main_data.csv')\n",
    "df = df.drop(df.columns[[0]], axis=1)"
   ]
  },
  {
   "cell_type": "code",
   "execution_count": 8,
   "metadata": {},
   "outputs": [
    {
     "data": {
      "text/plain": [
       "['./cropped_dataset/ASC-H/8116.jpg',\n",
       " './cropped_dataset/ASC-H/9781.jpg',\n",
       " './cropped_dataset/ASC-US/4950.jpg',\n",
       " './cropped_dataset/LSIL/2507.jpg',\n",
       " './cropped_dataset/LSIL/4639.jpg',\n",
       " './cropped_dataset/LSIL/5525.jpg',\n",
       " './cropped_dataset/Negative for intraepithelial lesion/10048.jpg',\n",
       " './cropped_dataset/Negative for intraepithelial lesion/10050.jpg',\n",
       " './cropped_dataset/Negative for intraepithelial lesion/10505.jpg',\n",
       " './cropped_dataset/Negative for intraepithelial lesion/11338.jpg',\n",
       " './cropped_dataset/Negative for intraepithelial lesion/2338.jpg',\n",
       " './cropped_dataset/Negative for intraepithelial lesion/2351.jpg',\n",
       " './cropped_dataset/Negative for intraepithelial lesion/2365.jpg',\n",
       " './cropped_dataset/Negative for intraepithelial lesion/2864.jpg',\n",
       " './cropped_dataset/Negative for intraepithelial lesion/2944.jpg',\n",
       " './cropped_dataset/Negative for intraepithelial lesion/3379.jpg',\n",
       " './cropped_dataset/Negative for intraepithelial lesion/3679.jpg',\n",
       " './cropped_dataset/Negative for intraepithelial lesion/3744.jpg',\n",
       " './cropped_dataset/Negative for intraepithelial lesion/3869.jpg',\n",
       " './cropped_dataset/Negative for intraepithelial lesion/3945.jpg',\n",
       " './cropped_dataset/Negative for intraepithelial lesion/4490.jpg',\n",
       " './cropped_dataset/Negative for intraepithelial lesion/4607.jpg',\n",
       " './cropped_dataset/Negative for intraepithelial lesion/4611.jpg',\n",
       " './cropped_dataset/Negative for intraepithelial lesion/4618.jpg',\n",
       " './cropped_dataset/Negative for intraepithelial lesion/4708.jpg',\n",
       " './cropped_dataset/Negative for intraepithelial lesion/4750.jpg',\n",
       " './cropped_dataset/Negative for intraepithelial lesion/4974.jpg',\n",
       " './cropped_dataset/Negative for intraepithelial lesion/5452.jpg',\n",
       " './cropped_dataset/Negative for intraepithelial lesion/5781.jpg',\n",
       " './cropped_dataset/Negative for intraepithelial lesion/6255.jpg',\n",
       " './cropped_dataset/Negative for intraepithelial lesion/6661.jpg',\n",
       " './cropped_dataset/Negative for intraepithelial lesion/6822.jpg',\n",
       " './cropped_dataset/Negative for intraepithelial lesion/6829.jpg',\n",
       " './cropped_dataset/Negative for intraepithelial lesion/6930.jpg',\n",
       " './cropped_dataset/Negative for intraepithelial lesion/6962.jpg',\n",
       " './cropped_dataset/Negative for intraepithelial lesion/7010.jpg',\n",
       " './cropped_dataset/Negative for intraepithelial lesion/7011.jpg',\n",
       " './cropped_dataset/Negative for intraepithelial lesion/7026.jpg',\n",
       " './cropped_dataset/Negative for intraepithelial lesion/7038.jpg',\n",
       " './cropped_dataset/Negative for intraepithelial lesion/7120.jpg',\n",
       " './cropped_dataset/Negative for intraepithelial lesion/7132.jpg',\n",
       " './cropped_dataset/Negative for intraepithelial lesion/7303.jpg',\n",
       " './cropped_dataset/Negative for intraepithelial lesion/7310.jpg',\n",
       " './cropped_dataset/Negative for intraepithelial lesion/7376.jpg',\n",
       " './cropped_dataset/Negative for intraepithelial lesion/8196.jpg',\n",
       " './cropped_dataset/Negative for intraepithelial lesion/9608.jpg']"
      ]
     },
     "execution_count": 8,
     "metadata": {},
     "output_type": "execute_result"
    }
   ],
   "source": [
    "error_log"
   ]
  },
  {
   "cell_type": "code",
   "execution_count": 405,
   "metadata": {},
   "outputs": [
    {
     "data": {
      "image/jpeg": "[encoded data removed]",
      "image/png": "[encoded data removed]",
      "text/plain": [
       "<PIL.Image.Image image mode=L size=100x100>"
      ]
     },
     "execution_count": 405,
     "metadata": {},
     "output_type": "execute_result"
    }
   ],
   "source": [
    "# img = cv2.imread(path)\n",
    "path = error_log[45]\n",
    "img = cv2.imread(path)\n",
    "\n",
    "# img = otsu(img, invert=True)\n",
    "# _, markers = cv2.connectedComponents(img)\n",
    "# (x, y) = img.shape\n",
    "# main_obj = markers[x//2-10, y//2-10]\n",
    "# img[markers != main_obj] = 0\n",
    "# img[markers == main_obj] = 255\n",
    "\n",
    "img = watershed(img)\n",
    "# (x, y) = img.shape\n",
    "# main_obj = img[(x//2), (y//2)] #main_obj = 170\n",
    "# img[img != main_obj] = 0\n",
    "# img[img == main_obj] = 255\n",
    "\n",
    "# img = region_growing(img, seed=(30,40))\n",
    "\n",
    "# img = cv2.cvtColor(img, cv2.COLOR_BGR2GRAY)\n",
    "\n",
    "Image.fromarray(img)"
   ]
  },
  {
   "cell_type": "code",
   "execution_count": 406,
   "metadata": {},
   "outputs": [
    {
     "data": {
      "text/plain": [
       "'./cropped_dataset/Negative for intraepithelial lesion/9608.jpg'"
      ]
     },
     "execution_count": 406,
     "metadata": {},
     "output_type": "execute_result"
    }
   ],
   "source": [
    "path"
   ]
  },
  {
   "cell_type": "code",
   "execution_count": 401,
   "metadata": {},
   "outputs": [],
   "source": [
    "df.loc[len(df.index)] = ((path, \n",
    "    description.calculate_area(img),\n",
    "    description.calculate_compactness(img),\n",
    "    description.calculate_eccentricity(img),\n",
    "    description.calculate_perimeter(img), \n",
    "\"Negative for intraepithelial lesion\"))"
   ]
  },
  {
   "cell_type": "code",
   "execution_count": 403,
   "metadata": {},
   "outputs": [
    {
     "data": {
      "text/html": [
       "<div>\n",
       "<style scoped>\n",
       "    .dataframe tbody tr th:only-of-type {\n",
       "        vertical-align: middle;\n",
       "    }\n",
       "\n",
       "    .dataframe tbody tr th {\n",
       "        vertical-align: top;\n",
       "    }\n",
       "\n",
       "    .dataframe thead th {\n",
       "        text-align: right;\n",
       "    }\n",
       "</style>\n",
       "<table border=\"1\" class=\"dataframe\">\n",
       "  <thead>\n",
       "    <tr style=\"text-align: right;\">\n",
       "      <th></th>\n",
       "      <th>image</th>\n",
       "      <th>area</th>\n",
       "      <th>compactness</th>\n",
       "      <th>eccentricity</th>\n",
       "      <th>permieter</th>\n",
       "      <th>label</th>\n",
       "    </tr>\n",
       "  </thead>\n",
       "  <tbody>\n",
       "    <tr>\n",
       "      <th>11529</th>\n",
       "      <td>./cropped_dataset/Negative for intraepithelial...</td>\n",
       "      <td>470</td>\n",
       "      <td>1.127330</td>\n",
       "      <td>0.478484</td>\n",
       "      <td>81.597979</td>\n",
       "      <td>Negative for intraepithelial lesion</td>\n",
       "    </tr>\n",
       "    <tr>\n",
       "      <th>11530</th>\n",
       "      <td>./cropped_dataset/Negative for intraepithelial...</td>\n",
       "      <td>327</td>\n",
       "      <td>1.050396</td>\n",
       "      <td>0.413155</td>\n",
       "      <td>65.698484</td>\n",
       "      <td>Negative for intraepithelial lesion</td>\n",
       "    </tr>\n",
       "    <tr>\n",
       "      <th>11531</th>\n",
       "      <td>./cropped_dataset/Negative for intraepithelial...</td>\n",
       "      <td>261</td>\n",
       "      <td>1.027138</td>\n",
       "      <td>0.314594</td>\n",
       "      <td>58.041630</td>\n",
       "      <td>Negative for intraepithelial lesion</td>\n",
       "    </tr>\n",
       "    <tr>\n",
       "      <th>11532</th>\n",
       "      <td>./cropped_dataset/Negative for intraepithelial...</td>\n",
       "      <td>835</td>\n",
       "      <td>1.574316</td>\n",
       "      <td>0.643762</td>\n",
       "      <td>128.526911</td>\n",
       "      <td>Negative for intraepithelial lesion</td>\n",
       "    </tr>\n",
       "    <tr>\n",
       "      <th>11533</th>\n",
       "      <td>./cropped_dataset/Negative for intraepithelial...</td>\n",
       "      <td>247</td>\n",
       "      <td>1.033110</td>\n",
       "      <td>0.423945</td>\n",
       "      <td>56.627416</td>\n",
       "      <td>Negative for intraepithelial lesion</td>\n",
       "    </tr>\n",
       "  </tbody>\n",
       "</table>\n",
       "</div>"
      ],
      "text/plain": [
       "                                                   image  area  compactness  \\\n",
       "11529  ./cropped_dataset/Negative for intraepithelial...   470     1.127330   \n",
       "11530  ./cropped_dataset/Negative for intraepithelial...   327     1.050396   \n",
       "11531  ./cropped_dataset/Negative for intraepithelial...   261     1.027138   \n",
       "11532  ./cropped_dataset/Negative for intraepithelial...   835     1.574316   \n",
       "11533  ./cropped_dataset/Negative for intraepithelial...   247     1.033110   \n",
       "\n",
       "       eccentricity   permieter                                label  \n",
       "11529      0.478484   81.597979  Negative for intraepithelial lesion  \n",
       "11530      0.413155   65.698484  Negative for intraepithelial lesion  \n",
       "11531      0.314594   58.041630  Negative for intraepithelial lesion  \n",
       "11532      0.643762  128.526911  Negative for intraepithelial lesion  \n",
       "11533      0.423945   56.627416  Negative for intraepithelial lesion  "
      ]
     },
     "execution_count": 403,
     "metadata": {},
     "output_type": "execute_result"
    }
   ],
   "source": [
    "df.tail()"
   ]
  },
  {
   "cell_type": "code",
   "execution_count": 404,
   "metadata": {},
   "outputs": [],
   "source": [
    "df.to_csv('./main_data.csv')"
   ]
  },
  {
   "cell_type": "code",
   "execution_count": 22,
   "metadata": {},
   "outputs": [],
   "source": [
    "# Example usage:\n",
    "# Load your image (replace 'your_image_path.jpg' with your actual image file path)\n",
    "original_image = cv2.imread(img_path)\n",
    "\n",
    "if original_image is None:\n",
    "    print(\"erro\")\n",
    "else:\n",
    "    # Replace these values with the actual x, y coordinates and the desired crop size\n",
    "    center_x = 1254\n",
    "    center_y = 366\n",
    "    crop_size = 100\n",
    "\n",
    "    # Crop the image around the specified x, y coordinates\n",
    "    cropped_image = crop_image_around_point(original_image, center_x,  center_y, crop_size)\n",
    "\n",
    "    # Display the original and cropped images\n",
    "    cv2.imwrite('./tests/ouput.png', cropped_image)\n"
   ]
  },
  {
   "cell_type": "code",
   "execution_count": 96,
   "metadata": {},
   "outputs": [],
   "source": [
    "def region_growing(image, seed=None, return_binary=True, threshold=[25,25,25]):\n",
    "    \"\"\"region_growing\n",
    "\n",
    "    Args:\n",
    "        image: image to be segmented\n",
    "        seed (tuple, optional): seed from which growing will start. Defaults to None.\n",
    "        return_binary (bool, optional): if false return the actual pixel of the image instead of a white. Defaults to True.\n",
    "        threshold (list, optional): thresh array of max absolute difference in each colour spectrum. Defaults to [20,20,20].\n",
    "\n",
    "    Returns:\n",
    "        np.ndarray: image segemented\n",
    "    \"\"\"\n",
    "    if not isinstance(image, np.ndarray):\n",
    "        image = np.array(image)\n",
    "\n",
    "    neighbors = [(1, 0), (-1, 0), (0, 1), (0, -1)]  # 4-connectivity\n",
    "\n",
    "    height, width, _ = image.shape\n",
    "    segmented = np.zeros_like(image, dtype=np.uint8)\n",
    "\n",
    "    if seed == None:\n",
    "        seed = (height//2, width//2)\n",
    "\n",
    "    queue = [seed]\n",
    "    seed_color = image[seed[0], seed[1]]\n",
    "\n",
    "    while queue:\n",
    "        current_pixel = queue.pop(0)\n",
    "        x, y = current_pixel\n",
    "        if 0 <= x < height and 0 <= y < width:\n",
    "            if np.all(segmented[x, y] == 0) and np.all(np.abs(image[x, y].astype(np.int64) - seed_color.astype(np.int64)) < threshold):\n",
    "                if return_binary == True:\n",
    "                    segmented[x, y] = (255,255,255)\n",
    "                else:\n",
    "                    segmented[x, y] = image[x, y]\n",
    "                for neighbor in neighbors:\n",
    "                    queue.append((x + neighbor[0], y + neighbor[1]))\n",
    "    \n",
    "    return segmented"
   ]
  }
 ],
 "metadata": {
  "kernelspec": {
   "display_name": "Python 3",
   "language": "python",
   "name": "python3"
  },
  "language_info": {
   "codemirror_mode": {
    "name": "ipython",
    "version": 3
   },
   "file_extension": ".py",
   "mimetype": "text/x-python",
   "name": "python",
   "nbconvert_exporter": "python",
   "pygments_lexer": "ipython3",
   "version": "3.10.11"
  }
 },
 "nbformat": 4,
 "nbformat_minor": 2
}
