{
 "cells": [
  {
   "cell_type": "code",
   "execution_count": 18,
   "metadata": {},
   "outputs": [],
   "source": [
    "import numpy as np\n",
    "import pandas as pd\n",
    "import cv2\n",
    "import os\n",
    "from PIL import Image\n",
    "\n",
    "from utils import scale_proportional\n",
    "from segmentations import binary, otsu, watershed\n",
    "import description"
   ]
  },
  {
   "cell_type": "code",
   "execution_count": 2,
   "metadata": {},
   "outputs": [],
   "source": [
    "# !curl -o dataset.zip \"https://database.cric.com.br/api/v1/imagens/export?collection=1&images=1&classifications=0&segmentations=0\"\n",
    "# !mkdir -p dataset\n",
    "# !unzip -q dataset.zip -d dataset"
   ]
  },
  {
   "cell_type": "code",
   "execution_count": 3,
   "metadata": {},
   "outputs": [
    {
     "data": {
      "text/html": [
       "<div>\n",
       "<style scoped>\n",
       "    .dataframe tbody tr th:only-of-type {\n",
       "        vertical-align: middle;\n",
       "    }\n",
       "\n",
       "    .dataframe tbody tr th {\n",
       "        vertical-align: top;\n",
       "    }\n",
       "\n",
       "    .dataframe thead th {\n",
       "        text-align: right;\n",
       "    }\n",
       "</style>\n",
       "<table border=\"1\" class=\"dataframe\">\n",
       "  <thead>\n",
       "    <tr style=\"text-align: right;\">\n",
       "      <th></th>\n",
       "      <th>image_id</th>\n",
       "      <th>image_filename</th>\n",
       "      <th>image_doi</th>\n",
       "      <th>cell_id</th>\n",
       "      <th>bethesda_system</th>\n",
       "      <th>nucleus_x</th>\n",
       "      <th>nucleus_y</th>\n",
       "    </tr>\n",
       "  </thead>\n",
       "  <tbody>\n",
       "    <tr>\n",
       "      <th>5635</th>\n",
       "      <td>164</td>\n",
       "      <td>0a2a5a681410054941cc56f51eb8fbda.png</td>\n",
       "      <td>10.6084/m9.figshare.12230102</td>\n",
       "      <td>5636</td>\n",
       "      <td>Negative for intraepithelial lesion</td>\n",
       "      <td>1012</td>\n",
       "      <td>875</td>\n",
       "    </tr>\n",
       "    <tr>\n",
       "      <th>5636</th>\n",
       "      <td>164</td>\n",
       "      <td>0a2a5a681410054941cc56f51eb8fbda.png</td>\n",
       "      <td>10.6084/m9.figshare.12230102</td>\n",
       "      <td>5637</td>\n",
       "      <td>Negative for intraepithelial lesion</td>\n",
       "      <td>910</td>\n",
       "      <td>900</td>\n",
       "    </tr>\n",
       "    <tr>\n",
       "      <th>5637</th>\n",
       "      <td>164</td>\n",
       "      <td>0a2a5a681410054941cc56f51eb8fbda.png</td>\n",
       "      <td>10.6084/m9.figshare.12230102</td>\n",
       "      <td>5638</td>\n",
       "      <td>Negative for intraepithelial lesion</td>\n",
       "      <td>1177</td>\n",
       "      <td>416</td>\n",
       "    </tr>\n",
       "    <tr>\n",
       "      <th>5638</th>\n",
       "      <td>164</td>\n",
       "      <td>0a2a5a681410054941cc56f51eb8fbda.png</td>\n",
       "      <td>10.6084/m9.figshare.12230102</td>\n",
       "      <td>5639</td>\n",
       "      <td>Negative for intraepithelial lesion</td>\n",
       "      <td>1254</td>\n",
       "      <td>366</td>\n",
       "    </tr>\n",
       "    <tr>\n",
       "      <th>5639</th>\n",
       "      <td>164</td>\n",
       "      <td>0a2a5a681410054941cc56f51eb8fbda.png</td>\n",
       "      <td>10.6084/m9.figshare.12230102</td>\n",
       "      <td>5640</td>\n",
       "      <td>LSIL</td>\n",
       "      <td>983</td>\n",
       "      <td>450</td>\n",
       "    </tr>\n",
       "  </tbody>\n",
       "</table>\n",
       "</div>"
      ],
      "text/plain": [
       "      image_id                        image_filename  \\\n",
       "5635       164  0a2a5a681410054941cc56f51eb8fbda.png   \n",
       "5636       164  0a2a5a681410054941cc56f51eb8fbda.png   \n",
       "5637       164  0a2a5a681410054941cc56f51eb8fbda.png   \n",
       "5638       164  0a2a5a681410054941cc56f51eb8fbda.png   \n",
       "5639       164  0a2a5a681410054941cc56f51eb8fbda.png   \n",
       "\n",
       "                         image_doi  cell_id  \\\n",
       "5635  10.6084/m9.figshare.12230102     5636   \n",
       "5636  10.6084/m9.figshare.12230102     5637   \n",
       "5637  10.6084/m9.figshare.12230102     5638   \n",
       "5638  10.6084/m9.figshare.12230102     5639   \n",
       "5639  10.6084/m9.figshare.12230102     5640   \n",
       "\n",
       "                          bethesda_system  nucleus_x  nucleus_y  \n",
       "5635  Negative for intraepithelial lesion       1012        875  \n",
       "5636  Negative for intraepithelial lesion        910        900  \n",
       "5637  Negative for intraepithelial lesion       1177        416  \n",
       "5638  Negative for intraepithelial lesion       1254        366  \n",
       "5639                                 LSIL        983        450  "
      ]
     },
     "execution_count": 3,
     "metadata": {},
     "output_type": "execute_result"
    }
   ],
   "source": [
    "df = pd.read_csv('./classifications.csv')\n",
    "dir_path = './dataset'\n",
    "test_img = '0a2a5a681410054941cc56f51eb8fbda.png'\n",
    "df[df['image_filename'] == test_img]"
   ]
  },
  {
   "cell_type": "code",
   "execution_count": 4,
   "metadata": {},
   "outputs": [],
   "source": [
    "def crop_image_around_point(image, x, y, crop_size):\n",
    "    # Calculate the top-left corner of the crop\n",
    "    x_start = max(0, x - int(crop_size / 2))\n",
    "    y_start = max(0, y - int(crop_size / 2))\n",
    "\n",
    "    # Calculate the bottom-right corner of the crop\n",
    "    x_end = min(image.shape[1], x + int(crop_size / 2))\n",
    "    y_end = min(image.shape[0], y + int(crop_size / 2))\n",
    "\n",
    "    # Crop the image\n",
    "    cropped_image = image[y_start:y_end, x_start:x_end]\n",
    "\n",
    "    return cropped_image"
   ]
  },
  {
   "cell_type": "code",
   "execution_count": 5,
   "metadata": {},
   "outputs": [],
   "source": [
    "def crop_with_pil(image, x, y, crop_size):\n",
    "    lcrop = int(crop_size/2)\n",
    "    rcrop = int(crop_size - lcrop)\n",
    "    width, height = image.size\n",
    "\n",
    "    # Calculate the top-left corner of the crop\n",
    "    x_start = max(0, x - lcrop)\n",
    "    y_start = max(0, y - lcrop)\n",
    "\n",
    "    # Calculate the bottom-right corner of the crop\n",
    "    x_end = min(width, x + rcrop)\n",
    "    y_end = min(height, y + rcrop)\n",
    "\n",
    "    # Crop the image\n",
    "    cropped_image = image.crop((x_start, y_start, x_end, y_end))\n",
    "\n",
    "    return cropped_image"
   ]
  },
  {
   "cell_type": "code",
   "execution_count": 6,
   "metadata": {},
   "outputs": [
    {
     "data": {
      "image/jpeg": "[encoded data removed]",
      "image/png": "[encoded data removed]",
      "text/plain": [
       "<PIL.Image.Image image mode=RGB size=100x100>"
      ]
     },
     "execution_count": 6,
     "metadata": {},
     "output_type": "execute_result"
    }
   ],
   "source": [
    "img_path = os.path.join(dir_path, test_img)\n",
    "image = cv2.imread(img_path)\n",
    "image = cv2.cvtColor(image, cv2.COLOR_BGR2RGB)\n",
    "cropped_img = crop_image_around_point(image, 1012, 875, 100)\n",
    "Image.fromarray(cropped_img)"
   ]
  },
  {
   "cell_type": "code",
   "execution_count": 7,
   "metadata": {},
   "outputs": [
    {
     "data": {
      "image/jpeg": "[encoded data removed]",
      "image/png": "[encoded data removed]",
      "text/plain": [
       "<PIL.Image.Image image mode=L size=100x100>"
      ]
     },
     "execution_count": 7,
     "metadata": {},
     "output_type": "execute_result"
    }
   ],
   "source": [
    "binary = binary(cropped_img, 127, invert=True)\n",
    "Image.fromarray(binary)"
   ]
  },
  {
   "cell_type": "code",
   "execution_count": 8,
   "metadata": {},
   "outputs": [
    {
     "data": {
      "image/jpeg": "[encoded data removed]",
      "image/png": "[encoded data removed]",
      "text/plain": [
       "<PIL.Image.Image image mode=L size=100x100>"
      ]
     },
     "execution_count": 8,
     "metadata": {},
     "output_type": "execute_result"
    }
   ],
   "source": [
    "watershed_img = watershed(cropped_img)\n",
    "Image.fromarray(watershed_img)"
   ]
  },
  {
   "cell_type": "code",
   "execution_count": 12,
   "metadata": {},
   "outputs": [
    {
     "data": {
      "image/jpeg": "[encoded data removed]",
      "image/png": "[encoded data removed]",
      "text/plain": [
       "<PIL.Image.Image image mode=L size=100x100>"
      ]
     },
     "execution_count": 12,
     "metadata": {},
     "output_type": "execute_result"
    }
   ],
   "source": [
    "Image.fromarray(otsu(cropped_img, invert=True))"
   ]
  },
  {
   "cell_type": "code",
   "execution_count": 23,
   "metadata": {},
   "outputs": [
    {
     "data": {
      "text/plain": [
       "1.3365537276220156"
      ]
     },
     "execution_count": 23,
     "metadata": {},
     "output_type": "execute_result"
    }
   ],
   "source": [
    "description.calculate_compactness(watershed_img)"
   ]
  },
  {
   "cell_type": "code",
   "execution_count": 52,
   "metadata": {},
   "outputs": [
    {
     "data": {
      "image/jpeg": "[encoded data removed]",
      "image/png": "[encoded data removed]",
      "text/plain": [
       "<PIL.Image.Image image mode=RGB size=100x100>"
      ]
     },
     "execution_count": 52,
     "metadata": {},
     "output_type": "execute_result"
    }
   ],
   "source": [
    "crop_size = 100\n",
    "out_dir = './cropped_dataset/'\n",
    "\n",
    "for index, row in df.iterrows():\n",
    "    x = row.nucleus_x\n",
    "    y = row.nucleus_y\n",
    "    id = row.cell_id\n",
    "    label = row.bethesda_system\n",
    "    img_path = os.path.join(dir_path, row.image_filename)\n",
    "    cropped_img_path = os.path.join(out_dir, label, str(id)+'.jpg')\n",
    "\n",
    "    image = Image.open(img_path)\n",
    "    cropped_img = crop_with_pil(image, x, y, crop_size)\n",
    "    # cropped_img.save(cropped_img_path)\n",
    "    break\n",
    "cropped_img"
   ]
  },
  {
   "cell_type": "code",
   "execution_count": 22,
   "metadata": {},
   "outputs": [],
   "source": [
    "# Example usage:\n",
    "# Load your image (replace 'your_image_path.jpg' with your actual image file path)\n",
    "original_image = cv2.imread(img_path)\n",
    "\n",
    "if original_image is None:\n",
    "    print(\"erro\")\n",
    "else:\n",
    "    # Replace these values with the actual x, y coordinates and the desired crop size\n",
    "    center_x = 1254\n",
    "    center_y = 366\n",
    "    crop_size = 100\n",
    "\n",
    "    # Crop the image around the specified x, y coordinates\n",
    "    cropped_image = crop_image_around_point(original_image, center_x,  center_y, crop_size)\n",
    "\n",
    "    # Display the original and cropped images\n",
    "    cv2.imwrite('./tests/ouput.png', cropped_image)\n"
   ]
  },
  {
   "cell_type": "code",
   "execution_count": null,
   "metadata": {},
   "outputs": [],
   "source": []
  }
 ],
 "metadata": {
  "kernelspec": {
   "display_name": "Python 3",
   "language": "python",
   "name": "python3"
  },
  "language_info": {
   "codemirror_mode": {
    "name": "ipython",
    "version": 3
   },
   "file_extension": ".py",
   "mimetype": "text/x-python",
   "name": "python",
   "nbconvert_exporter": "python",
   "pygments_lexer": "ipython3",
   "version": "3.9.6"
  }
 },
 "nbformat": 4,
 "nbformat_minor": 2
}
